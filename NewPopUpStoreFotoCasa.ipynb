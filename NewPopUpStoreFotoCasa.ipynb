{
 "cells": [
  {
   "cell_type": "markdown",
   "metadata": {},
   "source": [
    "# New Opening PopUpStore"
   ]
  },
  {
   "cell_type": "markdown",
   "metadata": {},
   "source": [
    "## Check Connection to Idealista "
   ]
  },
  {
   "cell_type": "code",
   "execution_count": 53,
   "metadata": {},
   "outputs": [],
   "source": [
    "import pandas as pd\n",
    "import numpy as np\n",
    "import pymysql\n",
    "from sqlalchemy import create_engine\n",
    "from getpass import getpass\n",
    "from sqlalchemy import inspect\n",
    "from bs4 import BeautifulSoup\n",
    "import numpy as np\n",
    "import matplotlib.pyplot as plt\n",
    "import seaborn as sns\n",
    "import time\n",
    "import os\n",
    "import requests as r\n",
    "import re\n",
    "import geopy \n"
   ]
  },
  {
   "cell_type": "code",
   "execution_count": 186,
   "metadata": {},
   "outputs": [],
   "source": [
    "url = 'https://api.fotocasa.es/PropertySearch/Search?combinedLocationIds=724,14,28,173,0,28079,0,0,0&culture=es-ES&featureIds=130&hrefLangCultures=ca-ES%3Bes-ES%3Bde-DE%3Ben-GB&isMap=false&isNewConstruction=false&isNewConstructionPromotions=false&latitude=40.4096&longitude=-3.68624&pageNumber=1&platformId=1&sortOrderDesc=true&sortType=bumpdate&transactionTypeId=3&propertyTypeId=2'\n"
   ]
  },
  {
   "cell_type": "code",
   "execution_count": 187,
   "metadata": {},
   "outputs": [
    {
     "data": {
      "text/plain": [
       "<Response [200]>"
      ]
     },
     "execution_count": 187,
     "metadata": {},
     "output_type": "execute_result"
    }
   ],
   "source": [
    "r.get(url)"
   ]
  },
  {
   "cell_type": "code",
   "execution_count": 188,
   "metadata": {},
   "outputs": [],
   "source": [
    "headers = \"\"\"accept: application/json, text/plain, */*\n",
    "accept-encoding: gzip, deflate, br\n",
    "accept-language: es-ES,es;q=0.9,fr;q=0.8,en;q=0.7,pl;q=0.6\n",
    "cache-control: no-cache\n",
    "origin: https://www.fotocasa.es\n",
    "pragma: no-cache\n",
    "referer: https://www.fotocasa.es/\n",
    "sec-ch-ua: \"Chromium\";v=\"88\", \"Google Chrome\";v=\"88\", \";Not A Brand\";v=\"99\"\n",
    "sec-ch-ua-mobile: ?0\n",
    "sec-fetch-dest: empty\n",
    "sec-fetch-mode: cors\n",
    "sec-fetch-site: same-site\n",
    "user-agent: Mozilla/5.0 (Windows NT 10.0; Win64; x64) AppleWebKit/537.36 (KHTML, like Gecko) Chrome/88.0.4324.182 Safari/537.36\"\"\""
   ]
  },
  {
   "cell_type": "code",
   "execution_count": 189,
   "metadata": {},
   "outputs": [],
   "source": [
    "headers=dict(i.split(': ') for i in headers.split('\\n'))"
   ]
  },
  {
   "cell_type": "code",
   "execution_count": 190,
   "metadata": {},
   "outputs": [],
   "source": [
    "resp = r.get(url, headers=headers)"
   ]
  },
  {
   "cell_type": "code",
   "execution_count": 191,
   "metadata": {},
   "outputs": [
    {
     "data": {
      "text/plain": [
       "<Response [200]>"
      ]
     },
     "execution_count": 191,
     "metadata": {},
     "output_type": "execute_result"
    }
   ],
   "source": [
    "resp"
   ]
  },
  {
   "cell_type": "code",
   "execution_count": 149,
   "metadata": {},
   "outputs": [],
   "source": [
    "data = resp.json()"
   ]
  },
  {
   "cell_type": "code",
   "execution_count": 150,
   "metadata": {},
   "outputs": [
    {
     "data": {
      "text/plain": [
       "dict_keys(['breadcrumb', 'count', 'hrefLang', 'client', 'realEstates', 'adjacentRealEstates'])"
      ]
     },
     "execution_count": 150,
     "metadata": {},
     "output_type": "execute_result"
    }
   ],
   "source": [
    "data.keys()"
   ]
  },
  {
   "cell_type": "code",
   "execution_count": null,
   "metadata": {},
   "outputs": [],
   "source": []
  },
  {
   "cell_type": "code",
   "execution_count": null,
   "metadata": {},
   "outputs": [],
   "source": []
  },
  {
   "cell_type": "code",
   "execution_count": null,
   "metadata": {},
   "outputs": [],
   "source": []
  },
  {
   "cell_type": "code",
   "execution_count": null,
   "metadata": {},
   "outputs": [],
   "source": []
  },
  {
   "cell_type": "code",
   "execution_count": null,
   "metadata": {},
   "outputs": [],
   "source": []
  },
  {
   "cell_type": "code",
   "execution_count": null,
   "metadata": {},
   "outputs": [],
   "source": []
  },
  {
   "cell_type": "code",
   "execution_count": null,
   "metadata": {},
   "outputs": [],
   "source": []
  },
  {
   "cell_type": "code",
   "execution_count": null,
   "metadata": {},
   "outputs": [],
   "source": []
  },
  {
   "cell_type": "code",
   "execution_count": null,
   "metadata": {},
   "outputs": [],
   "source": []
  },
  {
   "cell_type": "code",
   "execution_count": null,
   "metadata": {},
   "outputs": [],
   "source": []
  },
  {
   "cell_type": "code",
   "execution_count": null,
   "metadata": {},
   "outputs": [],
   "source": []
  },
  {
   "cell_type": "code",
   "execution_count": null,
   "metadata": {},
   "outputs": [],
   "source": []
  },
  {
   "cell_type": "code",
   "execution_count": null,
   "metadata": {},
   "outputs": [],
   "source": []
  },
  {
   "cell_type": "code",
   "execution_count": 94,
   "metadata": {},
   "outputs": [],
   "source": [
    "from requests.exceptions import SSLError, Timeout, TooManyRedirects, RequestException\n",
    "from contextlib import closing\n",
    "from IPython.display import Markdown, display\n",
    "import warnings\n",
    "\n",
    "warnings.filterwarnings('ignore')\n",
    "\n",
    "\n",
    "timeout_glob=0.05\n",
    "verify_glob=True\n",
    "allow_glob=False\n",
    "\n",
    "def printmd(string):\n",
    "    display(Markdown('**'+string+'**'))\n",
    "    \n",
    "def is_good_response(x):\n",
    "    \"\"\"\n",
    "    Returns True if the response seems to be an HTML, False otherwise\n",
    "    x is response\n",
    "    \"\"\"\n",
    "    \n",
    "    content_type=x.headers['Content-Type'].lower()\n",
    "    \n",
    "    return ((x.status_code==200 and content_type is not None and content_type.find('html')>1), x.status_code)\n",
    "\n",
    "def log_error(e):\n",
    "    print(e)\n",
    "    \n",
    "    \n",
    "def status_handler(status):\n",
    "    if status<300:\n",
    "        print('Alles gut!')\n",
    "    elif status>=400 and status<500:\n",
    "        print('request has failed due to you mistake bro. Check the link, headers, server and whether you have an access to this page.')\n",
    "    else:\n",
    "        print('Yoooo, I have no clue what has happened. But you are stuck, since you didnt receive any output from server')\n",
    "    return None\n",
    "\n",
    "\n",
    "def adaptive_scraping(url, timeout=timeout_glob, verify=verify_glob):\n",
    "    global timeout_glob\n",
    "    global verify_glob\n",
    "    global allow_glob\n",
    "    import requests as r\n",
    "    \n",
    "    try:\n",
    "        with closing(r.get(url, stream=True, timeout=timeout_glob, verify=verify_glob, allow_redirects=allow_glob)) as resp:\n",
    "            test1=is_good_response(resp)\n",
    "            print(resp)\n",
    "            if test1[0]:\n",
    "                return resp.content\n",
    "            else:\n",
    "                return status_handler(test1[1])\n",
    "    except Timeout as e:\n",
    "        log_error(f'Error during request to {url}: {str(e)}')\n",
    "        printmd('We can increase response waiting time. Do you want to continue?')\n",
    "        ans=input('\\n[Yes|No]\\t')\n",
    "        if ans.lower()=='yes':\n",
    "            timeout_glob*=2\n",
    "            return adaptive_scraping(url)\n",
    "        else:\n",
    "            return None\n",
    "    except SSLError as e:\n",
    "        log_error(f'Error during request to {url}: {str(e)}')\n",
    "        printmd('We can skip verification test. Do you want to continue?')\n",
    "        ans=input('\\n[Yes|No]\\t')\n",
    "        if ans.lower()=='yes':\n",
    "            verify_glob=False\n",
    "            return adaptive_scraping(url)\n",
    "        else:\n",
    "            return None\n",
    "    except TooManyRedirects as e:\n",
    "        log_error(f'Error during request to {url}: {str(e)}')\n",
    "        printmd('We can increase the number of allowed redirects. Do you want to continue?')\n",
    "        ans=input('\\n[Yes|No]\\t')\n",
    "        if ans.lower()=='yes':\n",
    "            allow_glob=True\n",
    "            return adaptive_scraping(url)\n",
    "        else:\n",
    "            return None\n",
    "    except RequestException as e:\n",
    "        log_error(f'Error during request to {url}: {str(e)}')\n",
    "        printmd('Unfortunately, we have no clue what to do.  Please try again later. ')\n",
    "        return None"
   ]
  },
  {
   "cell_type": "code",
   "execution_count": null,
   "metadata": {},
   "outputs": [],
   "source": []
  }
 ],
 "metadata": {
  "kernelspec": {
   "display_name": "Python 3",
   "language": "python",
   "name": "python3"
  },
  "language_info": {
   "codemirror_mode": {
    "name": "ipython",
    "version": 3
   },
   "file_extension": ".py",
   "mimetype": "text/x-python",
   "name": "python",
   "nbconvert_exporter": "python",
   "pygments_lexer": "ipython3",
   "version": "3.8.3"
  }
 },
 "nbformat": 4,
 "nbformat_minor": 4
}
